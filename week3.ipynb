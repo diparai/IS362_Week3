{
 "cells": [
  {
   "cell_type": "code",
   "execution_count": 8,
   "metadata": {
    "scrolled": true
   },
   "outputs": [
    {
     "name": "stdout",
     "output_type": "stream",
     "text": [
      "Day1 cumulative miles:0    58\n",
      "dtype: int64\n",
      "Day2 cumulative miles:0    122\n",
      "dtype: int64\n",
      "Day3 cumulative miles:0    182\n",
      "dtype: int64\n",
      "Day4 cumulative miles:0    243\n",
      "dtype: int64\n",
      "Day5 cumulative miles:0    302\n",
      "dtype: int64\n",
      "Day6 cumulative miles:0    366\n",
      "dtype: int64\n",
      "Day7 cumulative miles:0    430\n",
      "dtype: int64\n",
      "Day8 cumulative miles:0    494\n",
      "dtype: int64\n",
      "Day9 cumulative miles:0    557\n",
      "dtype: int64\n",
      "Day10 cumulative miles:0    620\n",
      "dtype: int64\n"
     ]
    }
   ],
   "source": [
    "import pandas as pd\n",
    "import numpy as np\n",
    "x = 0\n",
    "cumulative_miles = 0\n",
    "while x != 10:\n",
    "    D_miles = pd.Series(np.random.randint(55,65))\n",
    "    cumulative_miles = cumulative_miles + D_miles\n",
    "    x += 1\n",
    "    print('Day{} cumulative miles:{}'.format(x,cumulative_miles))"
   ]
  },
  {
   "cell_type": "code",
   "execution_count": null,
   "metadata": {},
   "outputs": [],
   "source": []
  },
  {
   "cell_type": "code",
   "execution_count": null,
   "metadata": {},
   "outputs": [],
   "source": []
  },
  {
   "cell_type": "code",
   "execution_count": null,
   "metadata": {},
   "outputs": [],
   "source": []
  },
  {
   "cell_type": "code",
   "execution_count": null,
   "metadata": {},
   "outputs": [],
   "source": []
  }
 ],
 "metadata": {
  "kernelspec": {
   "display_name": "Python 3",
   "language": "python",
   "name": "python3"
  },
  "language_info": {
   "codemirror_mode": {
    "name": "ipython",
    "version": 3
   },
   "file_extension": ".py",
   "mimetype": "text/x-python",
   "name": "python",
   "nbconvert_exporter": "python",
   "pygments_lexer": "ipython3",
   "version": "3.8.3"
  }
 },
 "nbformat": 4,
 "nbformat_minor": 4
}
